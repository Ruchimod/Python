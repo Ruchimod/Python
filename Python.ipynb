{
  "nbformat": 4,
  "nbformat_minor": 0,
  "metadata": {
    "colab": {
      "provenance": [],
      "authorship_tag": "ABX9TyOTX+V7ohwSK+mairPwq5hX",
      "include_colab_link": true
    },
    "kernelspec": {
      "name": "python3",
      "display_name": "Python 3"
    },
    "language_info": {
      "name": "python"
    }
  },
  "cells": [
    {
      "cell_type": "markdown",
      "metadata": {
        "id": "view-in-github",
        "colab_type": "text"
      },
      "source": [
        "<a href=\"https://colab.research.google.com/github/Ruchimod/Python/blob/main/Python.ipynb\" target=\"_parent\"><img src=\"https://colab.research.google.com/assets/colab-badge.svg\" alt=\"Open In Colab\"/></a>"
      ]
    },
    {
      "cell_type": "code",
      "execution_count": null,
      "metadata": {
        "id": "PLUA-wYchVbl"
      },
      "outputs": [],
      "source": []
    },
    {
      "cell_type": "code",
      "source": [
        "print(\"Shashi\")"
      ],
      "metadata": {
        "colab": {
          "base_uri": "https://localhost:8080/"
        },
        "id": "hGF16mEbhZIZ",
        "outputId": "437231ad-05c8-4d78-d9cf-9650e6bcca93"
      },
      "execution_count": null,
      "outputs": [
        {
          "output_type": "stream",
          "name": "stdout",
          "text": [
            "Shashi\n"
          ]
        }
      ]
    },
    {
      "cell_type": "code",
      "source": [
        "Answer 1"
      ],
      "metadata": {
        "id": "9fXfHH5yhoH2"
      },
      "execution_count": null,
      "outputs": []
    },
    {
      "cell_type": "code",
      "source": [
        "l=list(range(1,11))\n",
        "\n",
        "max,min,Avg = 0,1,0\n",
        "\n",
        "for e in l:\n",
        "\n",
        "  if e>max:\n",
        "\n",
        "    max=e\n",
        "\n",
        "    Avg = Avg + max\n",
        "\n",
        "  if e<min:\n",
        "\n",
        "    min = e\n",
        "\n",
        "print(max)\n",
        "\n",
        "print(min)\n",
        "\n",
        "print(Avg/len(l))"
      ],
      "metadata": {
        "colab": {
          "base_uri": "https://localhost:8080/"
        },
        "id": "5LXHinwtBokE",
        "outputId": "acf83f59-ab01-460f-f22e-52c378252a0d"
      },
      "execution_count": 1,
      "outputs": [
        {
          "output_type": "stream",
          "name": "stdout",
          "text": [
            "10\n",
            "1\n",
            "5.5\n"
          ]
        }
      ]
    }
  ]
}