{
  "nbformat": 4,
  "nbformat_minor": 0,
  "metadata": {
    "colab": {
      "provenance": [],
      "authorship_tag": "ABX9TyOcyLIMxn54Q2l/r92mzU9Y",
      "include_colab_link": true
    },
    "kernelspec": {
      "name": "python3",
      "display_name": "Python 3"
    },
    "language_info": {
      "name": "python"
    }
  },
  "cells": [
    {
      "cell_type": "markdown",
      "metadata": {
        "id": "view-in-github",
        "colab_type": "text"
      },
      "source": [
        "<a href=\"https://colab.research.google.com/github/Ruchimod/Python/blob/main/Python.ipynb\" target=\"_parent\"><img src=\"https://colab.research.google.com/assets/colab-badge.svg\" alt=\"Open In Colab\"/></a>"
      ]
    },
    {
      "cell_type": "markdown",
      "source": [
        "Problem Statement 1"
      ],
      "metadata": {
        "id": "Pn58SdqCu8or"
      }
    },
    {
      "cell_type": "code",
      "source": [
        "def sum_list(numbers):\n",
        "\n",
        "  total=sum(numbers)\n",
        "\n",
        "  return total\n",
        "\n",
        "sample_list=[8,2,3,0,7]\n",
        "\n",
        "result=sum_list(sample_list)\n",
        "\n",
        "print(result)"
      ],
      "metadata": {
        "colab": {
          "base_uri": "https://localhost:8080/"
        },
        "id": "vFLIba2avAj_",
        "outputId": "7f8875b0-23b7-4a1e-f2c0-1caa0d11dddf"
      },
      "execution_count": 1,
      "outputs": [
        {
          "output_type": "stream",
          "name": "stdout",
          "text": [
            "20\n"
          ]
        }
      ]
    },
    {
      "cell_type": "markdown",
      "source": [
        "Problem statement 2"
      ],
      "metadata": {
        "id": "7DVqH4cYvNTh"
      }
    },
    {
      "cell_type": "code",
      "source": [
        "def reverse_string(string):\n",
        "\n",
        "  reversed_string=string[::-1]\n",
        "\n",
        "  return reversed_string\n",
        "\n",
        "input_string=input(\"Enter a string: \")\n",
        "\n",
        "#input_String=\"1234abcd\"\n",
        "\n",
        "reversed_string=reverse_string(input_string)\n",
        "\n",
        "print(\"Reversed string::\",reversed_string)"
      ],
      "metadata": {
        "colab": {
          "base_uri": "https://localhost:8080/"
        },
        "id": "-8e4P9dpvPte",
        "outputId": "3ebfb458-8fdd-4265-a4dc-6015e18e276e"
      },
      "execution_count": 2,
      "outputs": [
        {
          "output_type": "stream",
          "name": "stdout",
          "text": [
            "Enter a string: a\n",
            "Reversed string:: a\n"
          ]
        }
      ]
    },
    {
      "cell_type": "markdown",
      "source": [
        "Problem Statement 3"
      ],
      "metadata": {
        "id": "a3SGjY5EvZs7"
      }
    },
    {
      "cell_type": "code",
      "source": [
        "def count_upper_lower(string):\n",
        "\n",
        "  upper_count=0\n",
        "\n",
        "  lower_count=0\n",
        "\n",
        "\n",
        "\n",
        "  for char in string:\n",
        "\n",
        "    if char.isupper():\n",
        "\n",
        "      upper_count +=1\n",
        "\n",
        "    elif char.islower():\n",
        "\n",
        "      lower_count +=1\n",
        "\n",
        "  return upper_count,lower_count\n",
        "\n",
        "text=input(\"Enter string to check:: \")\n",
        "\n",
        "upper,lower=count_upper_lower(text)\n",
        "\n",
        "print(\"Uppercase count::\",upper)\n",
        "\n",
        "print(\"lowercase count::\",lower)"
      ],
      "metadata": {
        "colab": {
          "base_uri": "https://localhost:8080/"
        },
        "id": "uPfdCKZfvcdy",
        "outputId": "121050a4-b064-45f0-8791-01fdfa6b470c"
      },
      "execution_count": 3,
      "outputs": [
        {
          "output_type": "stream",
          "name": "stdout",
          "text": [
            "Enter string to check:: A\n",
            "Uppercase count:: 1\n",
            "lowercase count:: 0\n"
          ]
        }
      ]
    }
  ]
}