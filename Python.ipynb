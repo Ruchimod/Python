{
  "nbformat": 4,
  "nbformat_minor": 0,
  "metadata": {
    "colab": {
      "provenance": [],
      "authorship_tag": "ABX9TyNoTrn4HGz/AcJZN616pm1m",
      "include_colab_link": true
    },
    "kernelspec": {
      "name": "python3",
      "display_name": "Python 3"
    },
    "language_info": {
      "name": "python"
    }
  },
  "cells": [
    {
      "cell_type": "markdown",
      "metadata": {
        "id": "view-in-github",
        "colab_type": "text"
      },
      "source": [
        "<a href=\"https://colab.research.google.com/github/Ruchimod/Python/blob/main/Python.ipynb\" target=\"_parent\"><img src=\"https://colab.research.google.com/assets/colab-badge.svg\" alt=\"Open In Colab\"/></a>"
      ]
    },
    {
      "cell_type": "code",
      "source": [
        "Problem Statement 2"
      ],
      "metadata": {
        "id": "9fXfHH5yhoH2"
      },
      "execution_count": null,
      "outputs": []
    },
    {
      "cell_type": "code",
      "source": [
        "l=list(range(1,11))\n",
        "\n",
        "max,min,Avg = 0,1,0\n",
        "\n",
        "for e in l:\n",
        "\n",
        "  if e>max:\n",
        "\n",
        "    max=e\n",
        "\n",
        "    Avg = Avg + max\n",
        "\n",
        "  if e<min:\n",
        "\n",
        "    min = e\n",
        "\n",
        "print(max)\n",
        "\n",
        "print(min)\n",
        "\n",
        "print(Avg/len(l))"
      ],
      "metadata": {
        "colab": {
          "base_uri": "https://localhost:8080/"
        },
        "id": "5LXHinwtBokE",
        "outputId": "acf83f59-ab01-460f-f22e-52c378252a0d"
      },
      "execution_count": 1,
      "outputs": [
        {
          "output_type": "stream",
          "name": "stdout",
          "text": [
            "10\n",
            "1\n",
            "5.5\n"
          ]
        }
      ]
    },
    {
      "cell_type": "code",
      "source": [
        "Problem Statement 1"
      ],
      "metadata": {
        "id": "7MaE3vXpE_nv"
      },
      "execution_count": null,
      "outputs": []
    },
    {
      "cell_type": "code",
      "source": [
        "Filename = ['view.jpg','bear.jpg','ball.png']\n",
        "\n",
        "Filename.insert(0,\"phone.jpg\")\n",
        "\n",
        "Filename.pop()\n",
        "\n",
        "print(Filename)"
      ],
      "metadata": {
        "colab": {
          "base_uri": "https://localhost:8080/"
        },
        "id": "0hTunTy1FFYK",
        "outputId": "93aa61e4-9a4c-4520-c06f-52c16e63b086"
      },
      "execution_count": 2,
      "outputs": [
        {
          "output_type": "stream",
          "name": "stdout",
          "text": [
            "['phone.jpg', 'view.jpg', 'bear.jpg']\n"
          ]
        }
      ]
    }
  ]
}