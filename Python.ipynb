{
  "nbformat": 4,
  "nbformat_minor": 0,
  "metadata": {
    "colab": {
      "provenance": [],
      "authorship_tag": "ABX9TyNDY70tC9dGBZDLpArdYPJ0",
      "include_colab_link": true
    },
    "kernelspec": {
      "name": "python3",
      "display_name": "Python 3"
    },
    "language_info": {
      "name": "python"
    }
  },
  "cells": [
    {
      "cell_type": "markdown",
      "metadata": {
        "id": "view-in-github",
        "colab_type": "text"
      },
      "source": [
        "<a href=\"https://colab.research.google.com/github/Ruchimod/Python/blob/main/Python.ipynb\" target=\"_parent\"><img src=\"https://colab.research.google.com/assets/colab-badge.svg\" alt=\"Open In Colab\"/></a>"
      ]
    },
    {
      "cell_type": "code",
      "source": [
        "Problem Statement 2 (Easy)"
      ],
      "metadata": {
        "id": "9fXfHH5yhoH2"
      },
      "execution_count": null,
      "outputs": []
    },
    {
      "cell_type": "code",
      "source": [
        "l=list(range(1,11))\n",
        "\n",
        "max,min,Avg = 0,1,0\n",
        "\n",
        "for e in l:\n",
        "\n",
        "  if e>max:\n",
        "\n",
        "    max=e\n",
        "\n",
        "    Avg = Avg + max\n",
        "\n",
        "  if e<min:\n",
        "\n",
        "    min = e\n",
        "\n",
        "print(max)\n",
        "\n",
        "print(min)\n",
        "\n",
        "print(Avg/len(l))"
      ],
      "metadata": {
        "colab": {
          "base_uri": "https://localhost:8080/"
        },
        "id": "5LXHinwtBokE",
        "outputId": "acf83f59-ab01-460f-f22e-52c378252a0d"
      },
      "execution_count": 1,
      "outputs": [
        {
          "output_type": "stream",
          "name": "stdout",
          "text": [
            "10\n",
            "1\n",
            "5.5\n"
          ]
        }
      ]
    },
    {
      "cell_type": "code",
      "source": [
        "Problem Statement 1 (Easy)"
      ],
      "metadata": {
        "id": "7MaE3vXpE_nv"
      },
      "execution_count": null,
      "outputs": []
    },
    {
      "cell_type": "code",
      "source": [
        "Filename = ['view.jpg','bear.jpg','ball.png']\n",
        "\n",
        "Filename.insert(0,\"phone.jpg\")\n",
        "\n",
        "Filename.pop()\n",
        "\n",
        "print(Filename)"
      ],
      "metadata": {
        "colab": {
          "base_uri": "https://localhost:8080/"
        },
        "id": "0hTunTy1FFYK",
        "outputId": "93aa61e4-9a4c-4520-c06f-52c16e63b086"
      },
      "execution_count": 2,
      "outputs": [
        {
          "output_type": "stream",
          "name": "stdout",
          "text": [
            "['phone.jpg', 'view.jpg', 'bear.jpg']\n"
          ]
        }
      ]
    },
    {
      "cell_type": "code",
      "source": [
        "Problem Statement 1 (Medium)"
      ],
      "metadata": {
        "id": "jB92mfVdFozQ"
      },
      "execution_count": null,
      "outputs": []
    },
    {
      "cell_type": "code",
      "source": [
        "l1=[1,1,1,1,2,2,3,3,3,3,4,5]\n",
        "\n",
        "l2 =[]\n",
        "\n",
        "for x in l1:\n",
        "\n",
        "  if x not in l2:\n",
        "\n",
        "    l2.append(x)\n",
        "\n",
        "print(l2)"
      ],
      "metadata": {
        "colab": {
          "base_uri": "https://localhost:8080/"
        },
        "id": "6Bvsqy1bFsJ1",
        "outputId": "49edad1b-6e93-47e7-a42b-56f82d7e1afe"
      },
      "execution_count": 3,
      "outputs": [
        {
          "output_type": "stream",
          "name": "stdout",
          "text": [
            "[1, 2, 3, 4, 5]\n"
          ]
        }
      ]
    },
    {
      "cell_type": "code",
      "source": [
        "Problem Statement 2 (Medium)"
      ],
      "metadata": {
        "id": "GmL_taJ1F0nA"
      },
      "execution_count": null,
      "outputs": []
    },
    {
      "cell_type": "code",
      "source": [
        "l3 = [1,2,3,4, [4,3] ]\n",
        "\n",
        "l4 = []\n",
        "\n",
        "for x in l3[0:4]:\n",
        "\n",
        "  if x in l3[4]:\n",
        "\n",
        "    l4.append(x)\n",
        "\n",
        "print(l4)"
      ],
      "metadata": {
        "colab": {
          "base_uri": "https://localhost:8080/"
        },
        "id": "WhgWZ2P2F4Yx",
        "outputId": "a48c5ed7-c977-481c-a47e-ec48eb395e2c"
      },
      "execution_count": 5,
      "outputs": [
        {
          "output_type": "stream",
          "name": "stdout",
          "text": [
            "[3, 4]\n"
          ]
        }
      ]
    },
    {
      "cell_type": "code",
      "source": [
        "Problem Statement 1 (Hard)"
      ],
      "metadata": {
        "id": "4o_MWVeYGYP-"
      },
      "execution_count": null,
      "outputs": []
    },
    {
      "cell_type": "code",
      "source": [
        "l1 = [[1,-1,2],[0,-5,3,5,-2],[1,2,1,0,-2,-3]]\n",
        "\n",
        "l3 =[]\n",
        "\n",
        "for x in l1[0]:\n",
        "\n",
        "  if x>0:\n",
        "\n",
        "    l3.append(x)\n",
        "\n",
        "for x in l1[1]:\n",
        "\n",
        "  if x>0:\n",
        "\n",
        "    l3.append(x)\n",
        "\n",
        "for x in l1[2]:\n",
        "\n",
        "  if x>0:\n",
        "\n",
        "    l3.append(x)\n",
        "\n",
        "print(l3)"
      ],
      "metadata": {
        "colab": {
          "base_uri": "https://localhost:8080/"
        },
        "id": "4aGEX5gqGbxx",
        "outputId": "ee4ab478-b64a-470f-85ea-057a9383f40e"
      },
      "execution_count": 6,
      "outputs": [
        {
          "output_type": "stream",
          "name": "stdout",
          "text": [
            "[1, 2, 3, 5, 1, 2, 1]\n"
          ]
        }
      ]
    },
    {
      "cell_type": "code",
      "source": [
        "Problem Statement 2 (Hard)"
      ],
      "metadata": {
        "id": "5AKgX_6KGgPm"
      },
      "execution_count": null,
      "outputs": []
    },
    {
      "cell_type": "code",
      "source": [
        "l = [[1,2,3],[4,5,6,3],[-1,-2,-10,5,8]]\n",
        "\n",
        "l1,l2,l3,l4=0,0,0,0\n",
        "\n",
        "for e in l[0]:\n",
        "\n",
        "    l1=l1+e\n",
        "\n",
        "for e in l[1]:\n",
        "\n",
        "    l2=l2+e\n",
        "\n",
        "for e in l[2]:\n",
        "\n",
        "    l3=l3+e\n",
        "\n",
        "total = l1/len(l[0]) + l2/len(l[1]) + l3/len(l[2])\n",
        "\n",
        "print(total)"
      ],
      "metadata": {
        "colab": {
          "base_uri": "https://localhost:8080/"
        },
        "id": "D3pzGPYQGjs0",
        "outputId": "594992f8-2014-4fea-9e46-e6d122507d14"
      },
      "execution_count": 7,
      "outputs": [
        {
          "output_type": "stream",
          "name": "stdout",
          "text": [
            "6.5\n"
          ]
        }
      ]
    }
  ]
}